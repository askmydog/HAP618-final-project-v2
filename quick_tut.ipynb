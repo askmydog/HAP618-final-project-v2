{
 "cells": [
  {
   "cell_type": "code",
   "execution_count": 1,
   "metadata": {},
   "outputs": [],
   "source": [
    "from sqlalchemy import create_engine\n",
    "\n",
    "engine = create_engine(\"sqlite+pysqlite:///:memory:\", echo=True)"
   ]
  },
  {
   "cell_type": "code",
   "execution_count": 2,
   "metadata": {},
   "outputs": [
    {
     "name": "stdout",
     "output_type": "stream",
     "text": [
      "2024-03-28 13:19:09,763 INFO sqlalchemy.engine.Engine BEGIN (implicit)\n",
      "2024-03-28 13:19:09,764 INFO sqlalchemy.engine.Engine select 'hello world'\n",
      "2024-03-28 13:19:09,765 INFO sqlalchemy.engine.Engine [generated in 0.00205s] ()\n",
      "[('hello world',)]\n",
      "2024-03-28 13:19:09,767 INFO sqlalchemy.engine.Engine ROLLBACK\n"
     ]
    }
   ],
   "source": [
    "from sqlalchemy import text\n",
    "\n",
    "with engine.connect() as conn:\n",
    "    result = conn.execute(text(\"select 'hello world'\"))\n",
    "    print(result.all())\n",
    "                            "
   ]
  },
  {
   "cell_type": "code",
   "execution_count": 3,
   "metadata": {},
   "outputs": [
    {
     "name": "stdout",
     "output_type": "stream",
     "text": [
      "2024-03-28 13:27:59,472 INFO sqlalchemy.engine.Engine BEGIN (implicit)\n",
      "2024-03-28 13:27:59,474 INFO sqlalchemy.engine.Engine Create table some_table (x int, y int)\n",
      "2024-03-28 13:27:59,476 INFO sqlalchemy.engine.Engine [generated in 0.00376s] ()\n",
      "2024-03-28 13:27:59,480 INFO sqlalchemy.engine.Engine INSERT INTO some_table (x, y) VALUES (?, ?)\n",
      "2024-03-28 13:27:59,482 INFO sqlalchemy.engine.Engine [generated in 0.00175s] [(1, 1), (2, 4)]\n",
      "2024-03-28 13:27:59,487 INFO sqlalchemy.engine.Engine COMMIT\n"
     ]
    }
   ],
   "source": [
    "with engine.connect() as conn:\n",
    "    conn.execute(text('Create table some_table (x int, y int)'))\n",
    "    conn.execute(text(\"INSERT INTO some_table (x, y) VALUES (:x, :y)\"),\n",
    "    [{\"x\": 1, \"y\": 1}, {\"x\": 2, \"y\": 4}],\n",
    "    )\n",
    "    conn.commit()\n"
   ]
  },
  {
   "cell_type": "code",
   "execution_count": 12,
   "metadata": {},
   "outputs": [],
   "source": [
    "import re\n",
    "def gender_parse(text):\n",
    "    pattern = \"(man|woman|male|female|(?<=\\\\d\\\\d)(m|w|f))\"\n",
    "    match = re.search(pattern, text).group(0)\n",
    "    return match"
   ]
  },
  {
   "cell_type": "code",
   "execution_count": 13,
   "metadata": {},
   "outputs": [
    {
     "name": "stdout",
     "output_type": "stream",
     "text": [
      "woman\n"
     ]
    }
   ],
   "source": [
    "print(gender_parse('50 yo woman'))\n"
   ]
  },
  {
   "cell_type": "code",
   "execution_count": null,
   "metadata": {},
   "outputs": [],
   "source": []
  }
 ],
 "metadata": {
  "kernelspec": {
   "display_name": "base",
   "language": "python",
   "name": "python3"
  },
  "language_info": {
   "codemirror_mode": {
    "name": "ipython",
    "version": 3
   },
   "file_extension": ".py",
   "mimetype": "text/x-python",
   "name": "python",
   "nbconvert_exporter": "python",
   "pygments_lexer": "ipython3",
   "version": "3.11.7"
  }
 },
 "nbformat": 4,
 "nbformat_minor": 2
}
