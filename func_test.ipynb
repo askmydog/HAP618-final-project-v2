{
 "cells": [
  {
   "cell_type": "code",
   "execution_count": 12,
   "metadata": {},
   "outputs": [],
   "source": [
    "import re\n",
    "def gender_parse(text):\n",
    "    pattern = \"(man|woman|male|female|(?<=\\\\d\\\\d)(m|w|f))\"\n",
    "    match = re.search(pattern, text).group(0)\n",
    "    return match"
   ]
  },
  {
   "cell_type": "code",
   "execution_count": 13,
   "metadata": {},
   "outputs": [
    {
     "name": "stdout",
     "output_type": "stream",
     "text": [
      "woman\n"
     ]
    }
   ],
   "source": [
    "print(gender_parse('50 yo woman'))\n"
   ]
  },
  {
   "cell_type": "code",
   "execution_count": 21,
   "metadata": {},
   "outputs": [
    {
     "data": {
      "text/plain": [
       "1"
      ]
     },
     "execution_count": 21,
     "metadata": {},
     "output_type": "execute_result"
    }
   ],
   "source": [
    "import re\n",
    "\n",
    "def dm_parse(text):\n",
    "    pattern_hist = '\\\\b(dm|t2dm|diabetes|iddm|niddm)\\\\b'\n",
    "    pattern_lab = 'a1c\\\\D+(\\\\d{1,2}\\\\.?\\\\d{1,2}?)'\n",
    "    text = text.lower()\n",
    "    match_hist = re.search(pattern_hist,text)\n",
    "    match_lab = re.search(pattern_lab,text)\n",
    "    if match_lab: match_lab = float(re.search(pattern_lab,text).group(1))\n",
    "    # if match_lab: match_lab = int(re.search(pattern_lab_2,match_lab.group(0)).group(0))\n",
    "    if match_hist or match_lab >= 6.5:\n",
    "        dm = 1\n",
    "    else:\n",
    "        dm = 0\n",
    "    return dm\n",
    "\n",
    "dm_parse('60 yo woman with dm')"
   ]
  },
  {
   "cell_type": "code",
   "execution_count": 31,
   "metadata": {},
   "outputs": [
    {
     "data": {
      "text/plain": [
       "1"
      ]
     },
     "execution_count": 31,
     "metadata": {},
     "output_type": "execute_result"
    }
   ],
   "source": [
    "import re\n",
    "\n",
    "def htnrx_parse(text):\n",
    "    text = text.lower()\n",
    "    pattern_hist = '(htn|hypertension)' #( (.+?controlled|treated|(on (therapy|treatment))))?\n",
    "    pattern_bp = '(\\\\d{2,3})\\\\/(\\\\d{2,3})'\n",
    "    match_hist = re.search(pattern_hist, text)\n",
    "    match_bp = re.search(pattern_bp, text)\n",
    "    htn = None\n",
    "    if match_bp:\n",
    "        if int(match_bp.group(1))>=140 or int(match_bp.group(2))>=90:\n",
    "            htn = 1\n",
    "    if match_hist or htn:\n",
    "        htnrx = 1\n",
    "    else:\n",
    "        htnrx = 0\n",
    "    return htnrx\n",
    "\n",
    "htnrx_parse('60 yo woman with bp 120/90')"
   ]
  },
  {
   "cell_type": "code",
   "execution_count": 33,
   "metadata": {},
   "outputs": [
    {
     "data": {
      "text/plain": [
       "150"
      ]
     },
     "execution_count": 33,
     "metadata": {},
     "output_type": "execute_result"
    }
   ],
   "source": [
    "import re\n",
    "def sbp_parse(text):\n",
    "    text = text.lower()\n",
    "    pattern_bp = '(\\\\d{2,3})\\\\/(\\\\d{2,3})'\n",
    "    match_bp = re.search(pattern_bp, text)\n",
    "    if match_bp: sbp = int(match_bp.group(1))\n",
    "    else: sbp = None\n",
    "    return sbp\n",
    "\n",
    "sbp_parse(\"60 yo woman with bp 150/30\")"
   ]
  },
  {
   "cell_type": "code",
   "execution_count": 41,
   "metadata": {},
   "outputs": [
    {
     "data": {
      "text/plain": [
       "500"
      ]
     },
     "execution_count": 41,
     "metadata": {},
     "output_type": "execute_result"
    }
   ],
   "source": [
    "import re\n",
    "\n",
    "def hdl_parse(text):\n",
    "    '''Extract total cholesterol, if listed.  Otherwise return None'''\n",
    "    text = text.lower()\n",
    "    pattern_hdl = '(hdl|high density lipoprotein)\\\\D+(\\\\d+\\\\b)'\n",
    "    match_hdl = re.search(pattern_hdl, text)\n",
    "    if match_hdl: match_hdl = int(match_hdl.group(2))\n",
    "    return match_hdl\n",
    "\n",
    "hdl_parse('''hdl: 500\n",
    "          tchol 500''')"
   ]
  },
  {
   "cell_type": "code",
   "execution_count": 82,
   "metadata": {},
   "outputs": [
    {
     "name": "stdout",
     "output_type": "stream",
     "text": [
      "140\n"
     ]
    }
   ],
   "source": [
    "def sbp_parse(text):\n",
    "    '''Extract systolic blood pressure, if listed, otherwise return None'''\n",
    "    text = text.lower()\n",
    "    pattern_bp = '(\\\\d{2,3})\\\\/(\\\\d{2,3})'\n",
    "    pattern_sbp = '(sbp|systolic blood pressure|systolic bp)\\\\D+(\\\\d{2,3})'\n",
    "    match_bp = re.search(pattern_bp, text)\n",
    "    match_sbp = re.search(pattern_sbp, text)\n",
    "    if match_bp: return int(match_bp.group(1))\n",
    "    if match_sbp: return int(match_sbp.group(2))\n",
    "    else: return None\n",
    "\n",
    "print(sbp_parse('sbp of 140'))"
   ]
  },
  {
   "cell_type": "code",
   "execution_count": 6,
   "metadata": {},
   "outputs": [
    {
     "data": {
      "text/plain": [
       "\"Risk is <class 'float'>\""
      ]
     },
     "execution_count": 6,
     "metadata": {},
     "output_type": "execute_result"
    }
   ],
   "source": [
    "risk = 3.1412\n",
    "f\"Risk is {risk:.2f}\""
   ]
  },
  {
   "cell_type": "code",
   "execution_count": 7,
   "metadata": {},
   "outputs": [
    {
     "data": {
      "text/plain": [
       "'5425.93'"
      ]
     },
     "execution_count": 7,
     "metadata": {},
     "output_type": "execute_result"
    }
   ],
   "source": [
    "format(5425.9292, \".2f\")"
   ]
  },
  {
   "cell_type": "code",
   "execution_count": 9,
   "metadata": {},
   "outputs": [
    {
     "data": {
      "text/plain": [
       "'Balance: 3.42'"
      ]
     },
     "execution_count": 9,
     "metadata": {},
     "output_type": "execute_result"
    }
   ],
   "source": [
    "balance = 3.415\n",
    "f\"Balance: {balance:.2f}\""
   ]
  },
  {
   "cell_type": "code",
   "execution_count": 13,
   "metadata": {},
   "outputs": [
    {
     "ename": "IndexError",
     "evalue": "list assignment index out of range",
     "output_type": "error",
     "traceback": [
      "\u001b[1;31m---------------------------------------------------------------------------\u001b[0m",
      "\u001b[1;31mIndexError\u001b[0m                                Traceback (most recent call last)",
      "Cell \u001b[1;32mIn[13], line 2\u001b[0m\n\u001b[0;32m      1\u001b[0m lst \u001b[38;5;241m=\u001b[39m [\u001b[38;5;241m0\u001b[39m]\n\u001b[1;32m----> 2\u001b[0m lst[\u001b[38;5;241m1\u001b[39m] \u001b[38;5;241m=\u001b[39m \u001b[38;5;124m\"\u001b[39m\u001b[38;5;124mhello\u001b[39m\u001b[38;5;124m\"\u001b[39m\n",
      "\u001b[1;31mIndexError\u001b[0m: list assignment index out of range"
     ]
    }
   ],
   "source": [
    "lst = [0]\n",
    "lst[1] = \"hello\""
   ]
  },
  {
   "cell_type": "code",
   "execution_count": null,
   "metadata": {},
   "outputs": [],
   "source": []
  }
 ],
 "metadata": {
  "kernelspec": {
   "display_name": "base",
   "language": "python",
   "name": "python3"
  },
  "language_info": {
   "codemirror_mode": {
    "name": "ipython",
    "version": 3
   },
   "file_extension": ".py",
   "mimetype": "text/x-python",
   "name": "python",
   "nbconvert_exporter": "python",
   "pygments_lexer": "ipython3",
   "version": "3.11.7"
  }
 },
 "nbformat": 4,
 "nbformat_minor": 2
}
